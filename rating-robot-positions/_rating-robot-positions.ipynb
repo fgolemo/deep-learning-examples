{
 "cells": [
  {
   "cell_type": "markdown",
   "metadata": {},
   "source": [
    "# You can use this notebook either to reproduce how training a simple model is done in Keras, or if you want, just to load the existing trained model and use it to make predictions."
   ]
  },
  {
   "cell_type": "markdown",
   "metadata": {},
   "source": [
    "But either way you first need the imports"
   ]
  },
  {
   "cell_type": "code",
   "execution_count": 1,
   "metadata": {
    "collapsed": false
   },
   "outputs": [
    {
     "name": "stderr",
     "output_type": "stream",
     "text": [
      "Using Theano backend.\n",
      "Using gpu device 0: Quadro K5200 (CNMeM is enabled with initial size: 75.0% of memory, cuDNN 5005)\n"
     ]
    }
   ],
   "source": [
    "from keras.models import Sequential, model_from_json\n",
    "from keras.layers.core import Dense, Activation, Dropout\n",
    "import numpy as np"
   ]
  },
  {
   "cell_type": "markdown",
   "metadata": {},
   "source": [
    "# IMPORTANT: THOSE NEXT LINES ARE FOR TRAINING ONLY, UNTIL THE NEXT MARKDOWN ALL CAPS COMMENT"
   ]
  },
  {
   "cell_type": "markdown",
   "metadata": {},
   "source": [
    "let's define the model..."
   ]
  },
  {
   "cell_type": "code",
   "execution_count": 2,
   "metadata": {
    "collapsed": false
   },
   "outputs": [],
   "source": [
    "model = Sequential()\n",
    "model.add(Dense(128, input_dim=18, activation='linear'))\n",
    "model.add(Dense(256, activation='tanh'))\n",
    "model.add(Dropout(0.2))\n",
    "model.add(Dense(256, activation='tanh'))\n",
    "model.add(Dropout(0.2))\n",
    "model.add(Dense(256, init='uniform', activation='linear'))\n",
    "model.add(Dense(1, activation='linear'))\n"
   ]
  },
  {
   "cell_type": "markdown",
   "metadata": {},
   "source": [
    "...and compile it, using `MSE` = Mean Squared Error as loss function and `RMSprop` as optimizer"
   ]
  },
  {
   "cell_type": "code",
   "execution_count": null,
   "metadata": {
    "collapsed": true
   },
   "outputs": [],
   "source": [
    "model.compile(loss='mse', optimizer='rmsprop')"
   ]
  },
  {
   "cell_type": "markdown",
   "metadata": {},
   "source": [
    "this gives you a nice table with the network configuration and it counts the total number of parameters"
   ]
  },
  {
   "cell_type": "code",
   "execution_count": 3,
   "metadata": {
    "collapsed": false
   },
   "outputs": [
    {
     "name": "stdout",
     "output_type": "stream",
     "text": [
      "____________________________________________________________________________________________________\n",
      "Layer (type)                     Output Shape          Param #     Connected to                     \n",
      "====================================================================================================\n",
      "dense_1 (Dense)                  (None, 128)           2432        dense_input_1[0][0]              \n",
      "____________________________________________________________________________________________________\n",
      "dense_2 (Dense)                  (None, 256)           33024       dense_1[0][0]                    \n",
      "____________________________________________________________________________________________________\n",
      "dropout_1 (Dropout)              (None, 256)           0           dense_2[0][0]                    \n",
      "____________________________________________________________________________________________________\n",
      "dense_3 (Dense)                  (None, 256)           65792       dropout_1[0][0]                  \n",
      "____________________________________________________________________________________________________\n",
      "dropout_2 (Dropout)              (None, 256)           0           dense_3[0][0]                    \n",
      "____________________________________________________________________________________________________\n",
      "dense_4 (Dense)                  (None, 256)           65792       dropout_2[0][0]                  \n",
      "____________________________________________________________________________________________________\n",
      "dense_5 (Dense)                  (None, 1)             257         dense_4[0][0]                    \n",
      "====================================================================================================\n",
      "Total params: 167297\n",
      "____________________________________________________________________________________________________\n"
     ]
    }
   ],
   "source": [
    "model.summary()"
   ]
  },
  {
   "cell_type": "markdown",
   "metadata": {},
   "source": [
    "this if for training only. It's the name of the text file that contains both training and test set"
   ]
  },
  {
   "cell_type": "code",
   "execution_count": 4,
   "metadata": {
    "collapsed": true
   },
   "outputs": [],
   "source": [
    "bmanDataName = \"bb-abc2.csv\""
   ]
  },
  {
   "cell_type": "markdown",
   "metadata": {},
   "source": [
    "load the file into memory"
   ]
  },
  {
   "cell_type": "code",
   "execution_count": 5,
   "metadata": {
    "collapsed": false
   },
   "outputs": [],
   "source": [
    "bmanData = np.loadtxt(bmanDataName, delimiter=\",\", skiprows=1)"
   ]
  },
  {
   "cell_type": "markdown",
   "metadata": {},
   "source": [
    "display the file's contents, to verify the the CSV import worked correctly"
   ]
  },
  {
   "cell_type": "code",
   "execution_count": 6,
   "metadata": {
    "collapsed": false
   },
   "outputs": [
    {
     "data": {
      "text/plain": [
       "array([[ 9.        ,  0.78539816, -0.78539816, ..., -0.26179939,\n",
       "        -0.26179939,  0.52359878],\n",
       "       [ 6.        ,  0.26179939,  0.34906585, ..., -0.26179939,\n",
       "         0.26179939, -0.52359878],\n",
       "       [ 4.        ,  0.26179939,  0.34906585, ..., -0.52359878,\n",
       "         0.        , -0.26179939],\n",
       "       ..., \n",
       "       [ 9.        ,  0.26179939,  0.78539816, ...,  0.26179939,\n",
       "         0.26179939, -0.26179939],\n",
       "       [ 4.        , -0.78539816,  0.17453293, ..., -0.52359878,\n",
       "         0.        ,  0.52359878],\n",
       "       [ 8.        ,  0.26179939,  0.17453293, ...,  0.26179939,\n",
       "        -0.26179939,  0.52359878]])"
      ]
     },
     "execution_count": 6,
     "metadata": {},
     "output_type": "execute_result"
    }
   ],
   "source": [
    "bmanData"
   ]
  },
  {
   "cell_type": "markdown",
   "metadata": {},
   "source": [
    "show the amount of data... should be N x 19, where N >= 1000"
   ]
  },
  {
   "cell_type": "code",
   "execution_count": 7,
   "metadata": {
    "collapsed": false
   },
   "outputs": [
    {
     "data": {
      "text/plain": [
       "(100000, 19)"
      ]
     },
     "execution_count": 7,
     "metadata": {},
     "output_type": "execute_result"
    }
   ],
   "source": [
    "bmanData.shape"
   ]
  },
  {
   "cell_type": "markdown",
   "metadata": {},
   "source": [
    "cut the data into input (18 joint data elements) and output (1 rating value)"
   ]
  },
  {
   "cell_type": "code",
   "execution_count": 8,
   "metadata": {
    "collapsed": false
   },
   "outputs": [],
   "source": [
    "rawData = bmanData[:,1:]\n",
    "rawLabels = bmanData[:,0]"
   ]
  },
  {
   "cell_type": "markdown",
   "metadata": {},
   "source": [
    "shuffle the data in order to randomly split into test/training set"
   ]
  },
  {
   "cell_type": "code",
   "execution_count": null,
   "metadata": {
    "collapsed": true
   },
   "outputs": [],
   "source": [
    "indices = np.arange(len(rawLabels))\n",
    "np.random.shuffle(indices)\n",
    "\n",
    "split = 0.8 # how much of the data is training. split = 0.8 means 80% train, 20% test\n",
    "splitIdx = int(round(len(rawLabels)*0.8))\n",
    "\n",
    "X_train = rawData[indices[:splitIdx]]\n",
    "y_train = rawLabels[indices[:splitIdx]]\n",
    "\n",
    "X_test = rawData[indices[splitIdx:]]\n",
    "y_test = rawLabels[indices[splitIdx:]]"
   ]
  },
  {
   "cell_type": "markdown",
   "metadata": {},
   "source": [
    "show the amount of test/training data"
   ]
  },
  {
   "cell_type": "code",
   "execution_count": 9,
   "metadata": {
    "collapsed": false
   },
   "outputs": [
    {
     "name": "stdout",
     "output_type": "stream",
     "text": [
      "(80000, 18)\n",
      "(80000,)\n",
      "(20000, 18)\n",
      "(20000,)\n"
     ]
    }
   ],
   "source": [
    "print (X_train.shape)\n",
    "print (y_train.shape)\n",
    "\n",
    "print (X_test.shape)\n",
    "print (y_test.shape)"
   ]
  },
  {
   "cell_type": "markdown",
   "metadata": {},
   "source": [
    "some hyperparameters necessary for training"
   ]
  },
  {
   "cell_type": "code",
   "execution_count": 10,
   "metadata": {
    "collapsed": false
   },
   "outputs": [],
   "source": [
    "epochs = 200 # how many training iterations\n",
    "batch_size = 64 # in each iteration, batch learning is used. This specifies how big the batch has to be\n",
    "\n",
    "val_split = 0.2 # validation split, how much of the training data is used for validation during training - \n",
    "# this is important, because the training data might overfit (the performance getting better), \n",
    "# but the validation split would then show the overall performance going down\n"
   ]
  },
  {
   "cell_type": "markdown",
   "metadata": {},
   "source": [
    "This trains the network and shows a little progress bar for each epoch, \n",
    "takes about 5min on my Nvidia Quadro K5200"
   ]
  },
  {
   "cell_type": "code",
   "execution_count": 11,
   "metadata": {
    "collapsed": false,
    "scrolled": true
   },
   "outputs": [
    {
     "name": "stdout",
     "output_type": "stream",
     "text": [
      "Train on 64000 samples, validate on 16000 samples\n",
      "Epoch 1/200\n",
      "64000/64000 [==============================] - 1s - loss: 2.7892 - val_loss: 1.9549\n",
      "Epoch 2/200\n",
      "64000/64000 [==============================] - 1s - loss: 2.2609 - val_loss: 1.8275\n",
      "Epoch 3/200\n",
      "64000/64000 [==============================] - 1s - loss: 2.0240 - val_loss: 1.5786\n",
      "Epoch 4/200\n",
      "64000/64000 [==============================] - 1s - loss: 1.8575 - val_loss: 1.6871\n",
      "Epoch 5/200\n",
      "64000/64000 [==============================] - 1s - loss: 1.7265 - val_loss: 1.4792\n",
      "Epoch 6/200\n",
      "64000/64000 [==============================] - 1s - loss: 1.6462 - val_loss: 1.3634\n",
      "Epoch 7/200\n",
      "64000/64000 [==============================] - 1s - loss: 1.5962 - val_loss: 1.3360\n",
      "Epoch 8/200\n",
      "64000/64000 [==============================] - 1s - loss: 1.5611 - val_loss: 1.3222\n",
      "Epoch 9/200\n",
      "64000/64000 [==============================] - 1s - loss: 1.5292 - val_loss: 1.3324\n",
      "Epoch 10/200\n",
      "64000/64000 [==============================] - 1s - loss: 1.5044 - val_loss: 1.2810\n",
      "Epoch 11/200\n",
      "64000/64000 [==============================] - 1s - loss: 1.4089 - val_loss: 1.1381\n",
      "Epoch 12/200\n",
      "64000/64000 [==============================] - 1s - loss: 1.2720 - val_loss: 1.0663\n",
      "Epoch 13/200\n",
      "64000/64000 [==============================] - 1s - loss: 1.2348 - val_loss: 1.0687\n",
      "Epoch 14/200\n",
      "64000/64000 [==============================] - 1s - loss: 1.2071 - val_loss: 1.0027\n",
      "Epoch 15/200\n",
      "64000/64000 [==============================] - 1s - loss: 1.1837 - val_loss: 1.0451\n",
      "Epoch 16/200\n",
      "64000/64000 [==============================] - 1s - loss: 1.1571 - val_loss: 0.9843\n",
      "Epoch 17/200\n",
      "64000/64000 [==============================] - 1s - loss: 1.1275 - val_loss: 0.9495\n",
      "Epoch 18/200\n",
      "64000/64000 [==============================] - 1s - loss: 1.1030 - val_loss: 0.9572\n",
      "Epoch 19/200\n",
      "64000/64000 [==============================] - 1s - loss: 1.0846 - val_loss: 0.9381\n",
      "Epoch 20/200\n",
      "64000/64000 [==============================] - 1s - loss: 1.0683 - val_loss: 1.0560\n",
      "Epoch 21/200\n",
      "64000/64000 [==============================] - 1s - loss: 1.0559 - val_loss: 0.9316\n",
      "Epoch 22/200\n",
      "64000/64000 [==============================] - 1s - loss: 1.0450 - val_loss: 0.8979\n",
      "Epoch 23/200\n",
      "64000/64000 [==============================] - 1s - loss: 1.0314 - val_loss: 0.9307\n",
      "Epoch 24/200\n",
      "64000/64000 [==============================] - 1s - loss: 1.0129 - val_loss: 0.8762\n",
      "Epoch 25/200\n",
      "64000/64000 [==============================] - 1s - loss: 0.9957 - val_loss: 1.0040\n",
      "Epoch 26/200\n",
      "64000/64000 [==============================] - 1s - loss: 0.9659 - val_loss: 0.9123\n",
      "Epoch 27/200\n",
      "64000/64000 [==============================] - 1s - loss: 0.9466 - val_loss: 0.7948\n",
      "Epoch 28/200\n",
      "64000/64000 [==============================] - 1s - loss: 0.9174 - val_loss: 0.7904\n",
      "Epoch 29/200\n",
      "64000/64000 [==============================] - 1s - loss: 0.9016 - val_loss: 0.7448\n",
      "Epoch 30/200\n",
      "64000/64000 [==============================] - 1s - loss: 0.8887 - val_loss: 0.7353\n",
      "Epoch 31/200\n",
      "64000/64000 [==============================] - 1s - loss: 0.8665 - val_loss: 0.6934\n",
      "Epoch 32/200\n",
      "64000/64000 [==============================] - 1s - loss: 0.8315 - val_loss: 0.6651\n",
      "Epoch 33/200\n",
      "64000/64000 [==============================] - 1s - loss: 0.8120 - val_loss: 0.6848\n",
      "Epoch 34/200\n",
      "64000/64000 [==============================] - 1s - loss: 0.8001 - val_loss: 0.7198\n",
      "Epoch 35/200\n",
      "64000/64000 [==============================] - 1s - loss: 0.7926 - val_loss: 0.6299\n",
      "Epoch 36/200\n",
      "64000/64000 [==============================] - 1s - loss: 0.7743 - val_loss: 0.6367\n",
      "Epoch 37/200\n",
      "64000/64000 [==============================] - 1s - loss: 0.7585 - val_loss: 0.6387\n",
      "Epoch 38/200\n",
      "64000/64000 [==============================] - 1s - loss: 0.7499 - val_loss: 0.5938\n",
      "Epoch 39/200\n",
      "64000/64000 [==============================] - 1s - loss: 0.7327 - val_loss: 0.5804\n",
      "Epoch 40/200\n",
      "64000/64000 [==============================] - 1s - loss: 0.7078 - val_loss: 0.5292\n",
      "Epoch 41/200\n",
      "64000/64000 [==============================] - 1s - loss: 0.6828 - val_loss: 0.4925\n",
      "Epoch 42/200\n",
      "64000/64000 [==============================] - 1s - loss: 0.6673 - val_loss: 0.4995\n",
      "Epoch 43/200\n",
      "64000/64000 [==============================] - 1s - loss: 0.6527 - val_loss: 0.4663\n",
      "Epoch 44/200\n",
      "64000/64000 [==============================] - 1s - loss: 0.6403 - val_loss: 0.4724\n",
      "Epoch 45/200\n",
      "64000/64000 [==============================] - 1s - loss: 0.6256 - val_loss: 0.4516\n",
      "Epoch 46/200\n",
      "64000/64000 [==============================] - 1s - loss: 0.6159 - val_loss: 0.4343\n",
      "Epoch 47/200\n",
      "64000/64000 [==============================] - 1s - loss: 0.6018 - val_loss: 0.5493\n",
      "Epoch 48/200\n",
      "64000/64000 [==============================] - 1s - loss: 0.5859 - val_loss: 0.3977\n",
      "Epoch 49/200\n",
      "64000/64000 [==============================] - 1s - loss: 0.5674 - val_loss: 0.3844\n",
      "Epoch 50/200\n",
      "64000/64000 [==============================] - 1s - loss: 0.5569 - val_loss: 0.3645\n",
      "Epoch 51/200\n",
      "64000/64000 [==============================] - 1s - loss: 0.5445 - val_loss: 0.3747\n",
      "Epoch 52/200\n",
      "64000/64000 [==============================] - 1s - loss: 0.5419 - val_loss: 0.3584\n",
      "Epoch 53/200\n",
      "64000/64000 [==============================] - 1s - loss: 0.5283 - val_loss: 0.3469\n",
      "Epoch 54/200\n",
      "64000/64000 [==============================] - 1s - loss: 0.5207 - val_loss: 0.3227\n",
      "Epoch 55/200\n",
      "64000/64000 [==============================] - 1s - loss: 0.5187 - val_loss: 0.3256\n",
      "Epoch 56/200\n",
      "64000/64000 [==============================] - 1s - loss: 0.5132 - val_loss: 0.3273\n",
      "Epoch 57/200\n",
      "64000/64000 [==============================] - 1s - loss: 0.5051 - val_loss: 0.3106\n",
      "Epoch 58/200\n",
      "64000/64000 [==============================] - 1s - loss: 0.5043 - val_loss: 0.3165\n",
      "Epoch 59/200\n",
      "64000/64000 [==============================] - 1s - loss: 0.4991 - val_loss: 0.3256\n",
      "Epoch 60/200\n",
      "64000/64000 [==============================] - 1s - loss: 0.4943 - val_loss: 0.3337\n",
      "Epoch 61/200\n",
      "64000/64000 [==============================] - 1s - loss: 0.4897 - val_loss: 0.3113\n",
      "Epoch 62/200\n",
      "64000/64000 [==============================] - 1s - loss: 0.4871 - val_loss: 0.3654\n",
      "Epoch 63/200\n",
      "64000/64000 [==============================] - 1s - loss: 0.4838 - val_loss: 0.2992\n",
      "Epoch 64/200\n",
      "64000/64000 [==============================] - 1s - loss: 0.4837 - val_loss: 0.3214\n",
      "Epoch 65/200\n",
      "64000/64000 [==============================] - 1s - loss: 0.4782 - val_loss: 0.3645\n",
      "Epoch 66/200\n",
      "64000/64000 [==============================] - 1s - loss: 0.4726 - val_loss: 0.2889\n",
      "Epoch 67/200\n",
      "64000/64000 [==============================] - 1s - loss: 0.4683 - val_loss: 0.2993\n",
      "Epoch 68/200\n",
      "64000/64000 [==============================] - 1s - loss: 0.4653 - val_loss: 0.2761\n",
      "Epoch 69/200\n",
      "64000/64000 [==============================] - 1s - loss: 0.4615 - val_loss: 0.2828\n",
      "Epoch 70/200\n",
      "64000/64000 [==============================] - 1s - loss: 0.4584 - val_loss: 0.2724\n",
      "Epoch 71/200\n",
      "64000/64000 [==============================] - 1s - loss: 0.4494 - val_loss: 0.2717\n",
      "Epoch 72/200\n",
      "64000/64000 [==============================] - 1s - loss: 0.4493 - val_loss: 0.2687\n",
      "Epoch 73/200\n",
      "64000/64000 [==============================] - 1s - loss: 0.4496 - val_loss: 0.2674\n",
      "Epoch 74/200\n",
      "64000/64000 [==============================] - 1s - loss: 0.4488 - val_loss: 0.2593\n",
      "Epoch 75/200\n",
      "64000/64000 [==============================] - 1s - loss: 0.4440 - val_loss: 0.2747\n",
      "Epoch 76/200\n",
      "64000/64000 [==============================] - 1s - loss: 0.4451 - val_loss: 0.2639\n",
      "Epoch 77/200\n",
      "64000/64000 [==============================] - 1s - loss: 0.4414 - val_loss: 0.3017\n",
      "Epoch 78/200\n",
      "64000/64000 [==============================] - 1s - loss: 0.4405 - val_loss: 0.2762\n",
      "Epoch 79/200\n",
      "64000/64000 [==============================] - 1s - loss: 0.4421 - val_loss: 0.2539\n",
      "Epoch 80/200\n",
      "64000/64000 [==============================] - 1s - loss: 0.4380 - val_loss: 0.2779\n",
      "Epoch 81/200\n",
      "64000/64000 [==============================] - 1s - loss: 0.4357 - val_loss: 0.2559\n",
      "Epoch 82/200\n",
      "64000/64000 [==============================] - 1s - loss: 0.4388 - val_loss: 0.2664\n",
      "Epoch 83/200\n",
      "64000/64000 [==============================] - 1s - loss: 0.4349 - val_loss: 0.2546\n",
      "Epoch 84/200\n",
      "64000/64000 [==============================] - 1s - loss: 0.4303 - val_loss: 0.2483\n",
      "Epoch 85/200\n",
      "64000/64000 [==============================] - 1s - loss: 0.4335 - val_loss: 0.2493\n",
      "Epoch 86/200\n",
      "64000/64000 [==============================] - 1s - loss: 0.4293 - val_loss: 0.2521\n",
      "Epoch 87/200\n",
      "64000/64000 [==============================] - 1s - loss: 0.4269 - val_loss: 0.2950\n",
      "Epoch 88/200\n",
      "64000/64000 [==============================] - 1s - loss: 0.4318 - val_loss: 0.2599\n",
      "Epoch 89/200\n",
      "64000/64000 [==============================] - 1s - loss: 0.4309 - val_loss: 0.2626\n",
      "Epoch 90/200\n",
      "64000/64000 [==============================] - 1s - loss: 0.4292 - val_loss: 0.2475\n",
      "Epoch 91/200\n",
      "64000/64000 [==============================] - 1s - loss: 0.4263 - val_loss: 0.2492\n",
      "Epoch 92/200\n",
      "64000/64000 [==============================] - 1s - loss: 0.4171 - val_loss: 0.2492\n",
      "Epoch 93/200\n",
      "64000/64000 [==============================] - 1s - loss: 0.4254 - val_loss: 0.2501\n",
      "Epoch 94/200\n",
      "64000/64000 [==============================] - 1s - loss: 0.4244 - val_loss: 0.2487\n",
      "Epoch 95/200\n",
      "64000/64000 [==============================] - 1s - loss: 0.4240 - val_loss: 0.2537\n",
      "Epoch 96/200\n",
      "64000/64000 [==============================] - 1s - loss: 0.4175 - val_loss: 0.2483\n",
      "Epoch 97/200\n",
      "64000/64000 [==============================] - 1s - loss: 0.4192 - val_loss: 0.2454\n",
      "Epoch 98/200\n",
      "64000/64000 [==============================] - 1s - loss: 0.4147 - val_loss: 0.2607\n",
      "Epoch 99/200\n",
      "64000/64000 [==============================] - 1s - loss: 0.4152 - val_loss: 0.2578\n",
      "Epoch 100/200\n",
      "64000/64000 [==============================] - 1s - loss: 0.4163 - val_loss: 0.2460\n",
      "Epoch 101/200\n",
      "64000/64000 [==============================] - 1s - loss: 0.4151 - val_loss: 0.2451\n",
      "Epoch 102/200\n",
      "64000/64000 [==============================] - 1s - loss: 0.4150 - val_loss: 0.2380\n",
      "Epoch 103/200\n",
      "64000/64000 [==============================] - 1s - loss: 0.4117 - val_loss: 0.2778\n",
      "Epoch 104/200\n",
      "64000/64000 [==============================] - 1s - loss: 0.4132 - val_loss: 0.2375\n",
      "Epoch 105/200\n",
      "64000/64000 [==============================] - 1s - loss: 0.4118 - val_loss: 0.2729\n",
      "Epoch 106/200\n",
      "64000/64000 [==============================] - 1s - loss: 0.4097 - val_loss: 0.2500\n",
      "Epoch 107/200\n",
      "64000/64000 [==============================] - 1s - loss: 0.4100 - val_loss: 0.2611\n",
      "Epoch 108/200\n",
      "64000/64000 [==============================] - 1s - loss: 0.4113 - val_loss: 0.2356\n",
      "Epoch 109/200\n",
      "64000/64000 [==============================] - 1s - loss: 0.4116 - val_loss: 0.2379\n",
      "Epoch 110/200\n",
      "64000/64000 [==============================] - 1s - loss: 0.4078 - val_loss: 0.2353\n",
      "Epoch 111/200\n",
      "64000/64000 [==============================] - 1s - loss: 0.4082 - val_loss: 0.2331\n",
      "Epoch 112/200\n",
      "64000/64000 [==============================] - 1s - loss: 0.4024 - val_loss: 0.2377\n",
      "Epoch 113/200\n",
      "64000/64000 [==============================] - 1s - loss: 0.4050 - val_loss: 0.2338\n",
      "Epoch 114/200\n",
      "64000/64000 [==============================] - 1s - loss: 0.4010 - val_loss: 0.2375\n",
      "Epoch 115/200\n",
      "64000/64000 [==============================] - 1s - loss: 0.4059 - val_loss: 0.2335\n",
      "Epoch 116/200\n",
      "64000/64000 [==============================] - 1s - loss: 0.4063 - val_loss: 0.2429\n",
      "Epoch 117/200\n",
      "64000/64000 [==============================] - 1s - loss: 0.4018 - val_loss: 0.2314\n",
      "Epoch 118/200\n",
      "64000/64000 [==============================] - 1s - loss: 0.3960 - val_loss: 0.2636\n",
      "Epoch 119/200\n",
      "64000/64000 [==============================] - 1s - loss: 0.3911 - val_loss: 0.2345\n",
      "Epoch 120/200\n",
      "64000/64000 [==============================] - 1s - loss: 0.3942 - val_loss: 0.2212\n",
      "Epoch 121/200\n",
      "64000/64000 [==============================] - 1s - loss: 0.3947 - val_loss: 0.2442\n",
      "Epoch 122/200\n",
      "64000/64000 [==============================] - 1s - loss: 0.3905 - val_loss: 0.2685\n",
      "Epoch 123/200\n",
      "64000/64000 [==============================] - 1s - loss: 0.3900 - val_loss: 0.2356\n",
      "Epoch 124/200\n",
      "64000/64000 [==============================] - 1s - loss: 0.3903 - val_loss: 0.2301\n",
      "Epoch 125/200\n",
      "64000/64000 [==============================] - 1s - loss: 0.3909 - val_loss: 0.2552\n",
      "Epoch 126/200\n",
      "64000/64000 [==============================] - 1s - loss: 0.3921 - val_loss: 0.2247\n",
      "Epoch 127/200\n",
      "64000/64000 [==============================] - 1s - loss: 0.3881 - val_loss: 0.2383\n",
      "Epoch 128/200\n",
      "64000/64000 [==============================] - 1s - loss: 0.3870 - val_loss: 0.2580\n",
      "Epoch 129/200\n",
      "64000/64000 [==============================] - 1s - loss: 0.3849 - val_loss: 0.2277\n",
      "Epoch 130/200\n",
      "64000/64000 [==============================] - 1s - loss: 0.3810 - val_loss: 0.2177\n",
      "Epoch 131/200\n",
      "64000/64000 [==============================] - 1s - loss: 0.3869 - val_loss: 0.2229\n",
      "Epoch 132/200\n",
      "64000/64000 [==============================] - 1s - loss: 0.3854 - val_loss: 0.2194\n",
      "Epoch 133/200\n",
      "64000/64000 [==============================] - 1s - loss: 0.3829 - val_loss: 0.2310\n",
      "Epoch 134/200\n",
      "64000/64000 [==============================] - 1s - loss: 0.3884 - val_loss: 0.2193\n",
      "Epoch 135/200\n",
      "64000/64000 [==============================] - 1s - loss: 0.3860 - val_loss: 0.2214\n",
      "Epoch 136/200\n",
      "64000/64000 [==============================] - 1s - loss: 0.3841 - val_loss: 0.2220\n",
      "Epoch 137/200\n",
      "64000/64000 [==============================] - 1s - loss: 0.3853 - val_loss: 0.2284\n",
      "Epoch 138/200\n",
      "64000/64000 [==============================] - 1s - loss: 0.3831 - val_loss: 0.2231\n",
      "Epoch 139/200\n",
      "64000/64000 [==============================] - 1s - loss: 0.3802 - val_loss: 0.2500\n",
      "Epoch 140/200\n",
      "64000/64000 [==============================] - 1s - loss: 0.3815 - val_loss: 0.2178\n",
      "Epoch 141/200\n",
      "64000/64000 [==============================] - 1s - loss: 0.3790 - val_loss: 0.2169\n",
      "Epoch 142/200\n",
      "64000/64000 [==============================] - 1s - loss: 0.3789 - val_loss: 0.2171\n",
      "Epoch 143/200\n",
      "64000/64000 [==============================] - 1s - loss: 0.3776 - val_loss: 0.2433\n",
      "Epoch 144/200\n",
      "64000/64000 [==============================] - 1s - loss: 0.3793 - val_loss: 0.2186\n",
      "Epoch 145/200\n",
      "64000/64000 [==============================] - 1s - loss: 0.3779 - val_loss: 0.2216\n",
      "Epoch 146/200\n",
      "64000/64000 [==============================] - 1s - loss: 0.3806 - val_loss: 0.2228\n",
      "Epoch 147/200\n",
      "64000/64000 [==============================] - 1s - loss: 0.3804 - val_loss: 0.2193\n",
      "Epoch 148/200\n",
      "64000/64000 [==============================] - 1s - loss: 0.3764 - val_loss: 0.2501\n",
      "Epoch 149/200\n",
      "64000/64000 [==============================] - 1s - loss: 0.3711 - val_loss: 0.2197\n",
      "Epoch 150/200\n",
      "64000/64000 [==============================] - 1s - loss: 0.3773 - val_loss: 0.2193\n",
      "Epoch 151/200\n",
      "64000/64000 [==============================] - 1s - loss: 0.3781 - val_loss: 0.2195\n",
      "Epoch 152/200\n",
      "64000/64000 [==============================] - 1s - loss: 0.3740 - val_loss: 0.2314\n",
      "Epoch 153/200\n",
      "64000/64000 [==============================] - 1s - loss: 0.3747 - val_loss: 0.2152\n",
      "Epoch 154/200\n",
      "64000/64000 [==============================] - 1s - loss: 0.3725 - val_loss: 0.2228\n",
      "Epoch 155/200\n",
      "64000/64000 [==============================] - 1s - loss: 0.3771 - val_loss: 0.2174\n",
      "Epoch 156/200\n",
      "64000/64000 [==============================] - 1s - loss: 0.3744 - val_loss: 0.2257\n",
      "Epoch 157/200\n",
      "64000/64000 [==============================] - 1s - loss: 0.3755 - val_loss: 0.2166\n",
      "Epoch 158/200\n",
      "64000/64000 [==============================] - 1s - loss: 0.3728 - val_loss: 0.2240\n",
      "Epoch 159/200\n",
      "64000/64000 [==============================] - 1s - loss: 0.3744 - val_loss: 0.2104\n",
      "Epoch 160/200\n",
      "64000/64000 [==============================] - 1s - loss: 0.3775 - val_loss: 0.2237\n",
      "Epoch 161/200\n",
      "64000/64000 [==============================] - 1s - loss: 0.3713 - val_loss: 0.2119\n",
      "Epoch 162/200\n",
      "64000/64000 [==============================] - 1s - loss: 0.3711 - val_loss: 0.2132\n",
      "Epoch 163/200\n",
      "64000/64000 [==============================] - 1s - loss: 0.3708 - val_loss: 0.2145\n",
      "Epoch 164/200\n",
      "64000/64000 [==============================] - 1s - loss: 0.3723 - val_loss: 0.2315\n",
      "Epoch 165/200\n",
      "64000/64000 [==============================] - 1s - loss: 0.3726 - val_loss: 0.2525\n",
      "Epoch 166/200\n",
      "64000/64000 [==============================] - 1s - loss: 0.3709 - val_loss: 0.2228\n",
      "Epoch 167/200\n",
      "64000/64000 [==============================] - 1s - loss: 0.3708 - val_loss: 0.2132\n",
      "Epoch 168/200\n",
      "64000/64000 [==============================] - 1s - loss: 0.3721 - val_loss: 0.2239\n",
      "Epoch 169/200\n",
      "64000/64000 [==============================] - 1s - loss: 0.3718 - val_loss: 0.2419\n",
      "Epoch 170/200\n",
      "64000/64000 [==============================] - 1s - loss: 0.3729 - val_loss: 0.2129\n",
      "Epoch 171/200\n",
      "64000/64000 [==============================] - 1s - loss: 0.3724 - val_loss: 0.2122\n",
      "Epoch 172/200\n",
      "64000/64000 [==============================] - 1s - loss: 0.3727 - val_loss: 0.2389\n",
      "Epoch 173/200\n",
      "64000/64000 [==============================] - 1s - loss: 0.3696 - val_loss: 0.2156\n",
      "Epoch 174/200\n",
      "64000/64000 [==============================] - 1s - loss: 0.3722 - val_loss: 0.2112\n",
      "Epoch 175/200\n",
      "64000/64000 [==============================] - 1s - loss: 0.3670 - val_loss: 0.2127\n",
      "Epoch 176/200\n",
      "64000/64000 [==============================] - 1s - loss: 0.3726 - val_loss: 0.2108\n",
      "Epoch 177/200\n",
      "64000/64000 [==============================] - 1s - loss: 0.3712 - val_loss: 0.2311\n",
      "Epoch 178/200\n",
      "64000/64000 [==============================] - 1s - loss: 0.3695 - val_loss: 0.2153\n",
      "Epoch 179/200\n",
      "64000/64000 [==============================] - 1s - loss: 0.3687 - val_loss: 0.2101\n",
      "Epoch 180/200\n",
      "64000/64000 [==============================] - 1s - loss: 0.3665 - val_loss: 0.2150\n",
      "Epoch 181/200\n",
      "64000/64000 [==============================] - 1s - loss: 0.3657 - val_loss: 0.2102\n",
      "Epoch 182/200\n",
      "64000/64000 [==============================] - 1s - loss: 0.3697 - val_loss: 0.2262\n",
      "Epoch 183/200\n",
      "64000/64000 [==============================] - 1s - loss: 0.3696 - val_loss: 0.2242\n",
      "Epoch 184/200\n",
      "64000/64000 [==============================] - 1s - loss: 0.3695 - val_loss: 0.2202\n",
      "Epoch 185/200\n",
      "64000/64000 [==============================] - 1s - loss: 0.3672 - val_loss: 0.2126\n",
      "Epoch 186/200\n",
      "64000/64000 [==============================] - 1s - loss: 0.3682 - val_loss: 0.2098\n",
      "Epoch 187/200\n",
      "64000/64000 [==============================] - 1s - loss: 0.3705 - val_loss: 0.2395\n",
      "Epoch 188/200\n",
      "64000/64000 [==============================] - 1s - loss: 0.3680 - val_loss: 0.2066\n",
      "Epoch 189/200\n",
      "64000/64000 [==============================] - 1s - loss: 0.3681 - val_loss: 0.2128\n",
      "Epoch 190/200\n",
      "64000/64000 [==============================] - 1s - loss: 0.3639 - val_loss: 0.2102\n",
      "Epoch 191/200\n",
      "64000/64000 [==============================] - 1s - loss: 0.3645 - val_loss: 0.2112\n",
      "Epoch 192/200\n",
      "64000/64000 [==============================] - 1s - loss: 0.3674 - val_loss: 0.2083\n",
      "Epoch 193/200\n",
      "64000/64000 [==============================] - 1s - loss: 0.3659 - val_loss: 0.2164\n",
      "Epoch 194/200\n",
      "64000/64000 [==============================] - 1s - loss: 0.3663 - val_loss: 0.2112\n",
      "Epoch 195/200\n",
      "64000/64000 [==============================] - 1s - loss: 0.3649 - val_loss: 0.2143\n",
      "Epoch 196/200\n",
      "64000/64000 [==============================] - 1s - loss: 0.3668 - val_loss: 0.2106\n",
      "Epoch 197/200\n",
      "64000/64000 [==============================] - 1s - loss: 0.3670 - val_loss: 0.2209\n",
      "Epoch 198/200\n",
      "64000/64000 [==============================] - 1s - loss: 0.3684 - val_loss: 0.2204\n",
      "Epoch 199/200\n",
      "64000/64000 [==============================] - 1s - loss: 0.3650 - val_loss: 0.2434\n",
      "Epoch 200/200\n",
      "64000/64000 [==============================] - 1s - loss: 0.3652 - val_loss: 0.2037\n"
     ]
    }
   ],
   "source": [
    "hist = model.fit(X_train, y_train, nb_epoch=epochs, batch_size=batch_size, validation_split=val_split)\n",
    "# it also stores the history of training episodes that can later be used to plot the convergence graph"
   ]
  },
  {
   "cell_type": "markdown",
   "metadata": {},
   "source": [
    "run the model on the test data for evaluation"
   ]
  },
  {
   "cell_type": "code",
   "execution_count": 12,
   "metadata": {
    "collapsed": false
   },
   "outputs": [
    {
     "name": "stdout",
     "output_type": "stream",
     "text": [
      "19072/20000 [===========================>..] - ETA: 0s"
     ]
    }
   ],
   "source": [
    "score = model.evaluate(X_test, y_test, batch_size=batch_size)"
   ]
  },
  {
   "cell_type": "code",
   "execution_count": 13,
   "metadata": {
    "collapsed": false
   },
   "outputs": [
    {
     "data": {
      "text/plain": [
       "0.20652985680103303"
      ]
     },
     "execution_count": 13,
     "metadata": {},
     "output_type": "execute_result"
    }
   ],
   "source": [
    "score # this gives the mean squared error over the test set"
   ]
  },
  {
   "cell_type": "markdown",
   "metadata": {},
   "source": [
    "in order to save/load the trained model, let's give it a name and a version number"
   ]
  },
  {
   "cell_type": "code",
   "execution_count": 15,
   "metadata": {
    "collapsed": true
   },
   "outputs": [],
   "source": [
    "modelName = \"bb-abc\"\n",
    "modelVersion = 2"
   ]
  },
  {
   "cell_type": "markdown",
   "metadata": {},
   "source": [
    "Saving and loading the model weights is done in H5 binary format.\n",
    "\n",
    "To get Python to understand H5, you need to install the h5py extension either with\n",
    "\n",
    "`sudo apt-get install python-h5py`\n",
    "\n",
    "or\n",
    "\n",
    "`sudo pip install h5py`"
   ]
  },
  {
   "cell_type": "code",
   "execution_count": 16,
   "metadata": {
    "collapsed": false
   },
   "outputs": [],
   "source": [
    "# first store the model definition (the content of the second cell from the top in this notebook)\n",
    "open(\"model-\"+modelName+'-'+str(modelVersion)+'.json', 'w').write(model.to_json())\n",
    "\n",
    "# then save the actual weights\n",
    "model.save_weights(\"model-\"+modelName+'-'+str(modelVersion)+'.h5')"
   ]
  },
  {
   "cell_type": "markdown",
   "metadata": {},
   "source": [
    "# IMPORTANT: STARTING FROM THE NEXT CELL YOU CAN _USE_ THE MODEL (I.E. USE THE TRAINED MODEL TO DO PREDICTIONS WITHOUT MODIFYING THE MODEL)"
   ]
  },
  {
   "cell_type": "markdown",
   "metadata": {},
   "source": [
    "If you came here directly without executing any of the lines above (except the imports), \n",
    "then you need to execute this:\n",
    "\n",
    "This is the same as 2 cells above (but here in case you skipped it)"
   ]
  },
  {
   "cell_type": "code",
   "execution_count": 24,
   "metadata": {
    "collapsed": true
   },
   "outputs": [],
   "source": [
    "modelName = \"bb-abc\"\n",
    "modelVersion = 2"
   ]
  },
  {
   "cell_type": "code",
   "execution_count": 20,
   "metadata": {
    "collapsed": false
   },
   "outputs": [],
   "source": [
    "# first load the model definition (and also secretly compile the model)\n",
    "model = model_from_json(open(\"model-\"+modelName+'-'+str(modelVersion)+'.json').read())\n",
    "# then load and set the weights of the model to those we trained\n",
    "model.load_weights(\"model-\"+modelName+'-'+str(modelVersion)+'.h5')"
   ]
  },
  {
   "cell_type": "markdown",
   "metadata": {
    "collapsed": true
   },
   "source": [
    "Now just to understand the data format, \n",
    "show the first row of the test dataset (that we use here to show how predictions are done)"
   ]
  },
  {
   "cell_type": "code",
   "execution_count": 21,
   "metadata": {
    "collapsed": false
   },
   "outputs": [
    {
     "data": {
      "text/plain": [
       "array([[ 0.26179939,  0.78539816,  0.78539816, -0.26179939,  1.3962634 ,\n",
       "         0.26179939, -0.52359878, -1.04719755,  0.        , -0.78539816,\n",
       "         0.        , -0.78539816,  0.        ,  0.        , -0.26179939,\n",
       "         0.52359878,  0.26179939,  0.26179939]])"
      ]
     },
     "execution_count": 21,
     "metadata": {},
     "output_type": "execute_result"
    }
   ],
   "source": [
    "X_test[0:1] # note: this is different from X_test[0] (the former is a matrix, the latter a vector)"
   ]
  },
  {
   "cell_type": "markdown",
   "metadata": {},
   "source": [
    "this uses the model to predict the output for the first element in the test set"
   ]
  },
  {
   "cell_type": "code",
   "execution_count": 22,
   "metadata": {
    "collapsed": false
   },
   "outputs": [
    {
     "name": "stdout",
     "output_type": "stream",
     "text": [
      "[[ 7.87725258]]\n"
     ]
    }
   ],
   "source": [
    "print model.predict([X_test[0:1]])"
   ]
  },
  {
   "cell_type": "markdown",
   "metadata": {},
   "source": [
    "...and this is the actual test set output (what the above output should be as close as possible to)"
   ]
  },
  {
   "cell_type": "code",
   "execution_count": 23,
   "metadata": {
    "collapsed": false
   },
   "outputs": [
    {
     "name": "stdout",
     "output_type": "stream",
     "text": [
      "8.0\n"
     ]
    }
   ],
   "source": [
    "print y_test[0]"
   ]
  },
  {
   "cell_type": "code",
   "execution_count": null,
   "metadata": {
    "collapsed": true
   },
   "outputs": [],
   "source": []
  }
 ],
 "metadata": {
  "kernelspec": {
   "display_name": "Python 2",
   "language": "python",
   "name": "python2"
  },
  "language_info": {
   "codemirror_mode": {
    "name": "ipython",
    "version": 2
   },
   "file_extension": ".py",
   "mimetype": "text/x-python",
   "name": "python",
   "nbconvert_exporter": "python",
   "pygments_lexer": "ipython2",
   "version": "2.7.10"
  }
 },
 "nbformat": 4,
 "nbformat_minor": 0
}
